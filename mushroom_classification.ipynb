{
 "cells": [
  {
   "cell_type": "markdown",
   "id": "49b27a49-2fa5-4ac6-8f23-f36286a1030d",
   "metadata": {},
   "source": [
    "Mushroom Classification Project\n",
    "DTSC 680: Patrick Foran\n",
    "\n",
    "This notebook and project build a machine learning model to predict whether mushrooms are edible or poisonous based on their features. First, a neural network will be trained using One-Hot Encoded data, and then on PCA-reduced data. The models will be compared with training times and with confusion matrices. \n",
    "\n",
    "The project will follow a few key steps:\n",
    "- Data preprocessing: Manual assignment of column names due to formatting issues with .names file. Label encoding of target values and one- hot encoding categorical features.\n",
    "- Neural Network Training: Creating and training of two-layered dequentail neural network using both full feature and PCA-reduced data. \n",
    "- Dimensionality Reduction: Application of PCA to increase efficiency while preserving variance.\n",
    "- Model Evaluation: Analysis via confusion matrices and run time. \n",
    "- Documentation: Comments on the code and answers to concept questions.\n"
   ]
  },
  {
   "cell_type": "code",
   "execution_count": 1,
   "id": "3fafcaa9-8a64-47cc-8b63-f074f019fc52",
   "metadata": {},
   "outputs": [],
   "source": [
    "import pandas as pd"
   ]
  },
  {
   "cell_type": "code",
   "execution_count": 2,
   "id": "f7568574-7412-4a45-9a07-f5207ad67952",
   "metadata": {},
   "outputs": [
    {
     "data": {
      "text/html": [
       "<div>\n",
       "<style scoped>\n",
       "    .dataframe tbody tr th:only-of-type {\n",
       "        vertical-align: middle;\n",
       "    }\n",
       "\n",
       "    .dataframe tbody tr th {\n",
       "        vertical-align: top;\n",
       "    }\n",
       "\n",
       "    .dataframe thead th {\n",
       "        text-align: right;\n",
       "    }\n",
       "</style>\n",
       "<table border=\"1\" class=\"dataframe\">\n",
       "  <thead>\n",
       "    <tr style=\"text-align: right;\">\n",
       "      <th></th>\n",
       "      <th>class</th>\n",
       "      <th>1. Title</th>\n",
       "      <th>2. Sources</th>\n",
       "      <th>American Mushrooms (1981). G. H. Lincoff (Pres.), New York</th>\n",
       "      <th>(b) Donor</th>\n",
       "      <th>(c) Date</th>\n",
       "      <th>3. Past Usage</th>\n",
       "      <th>--- STAGGER</th>\n",
       "      <th>Ann Arbor, Michigan</th>\n",
       "      <th>from training data using backpropagation networks, in</th>\n",
       "      <th>...</th>\n",
       "      <th>19. ring-type</th>\n",
       "      <th>20. spore-print-color</th>\n",
       "      <th>21. population</th>\n",
       "      <th>22. habitat</th>\n",
       "      <th>8. Missing Attribute Values</th>\n",
       "      <th>attribute #11. &lt;&lt;DTSC-680 Students</th>\n",
       "      <th>9. Class Distribution</th>\n",
       "      <th>--    edible</th>\n",
       "      <th>-- poisonous</th>\n",
       "      <th>--     total</th>\n",
       "    </tr>\n",
       "  </thead>\n",
       "  <tbody>\n",
       "    <tr>\n",
       "      <th>0</th>\n",
       "      <td>p</td>\n",
       "      <td>x</td>\n",
       "      <td>s</td>\n",
       "      <td>n</td>\n",
       "      <td>t</td>\n",
       "      <td>p</td>\n",
       "      <td>f</td>\n",
       "      <td>c</td>\n",
       "      <td>n</td>\n",
       "      <td>k</td>\n",
       "      <td>...</td>\n",
       "      <td>NaN</td>\n",
       "      <td>NaN</td>\n",
       "      <td>NaN</td>\n",
       "      <td>NaN</td>\n",
       "      <td>NaN</td>\n",
       "      <td>NaN</td>\n",
       "      <td>NaN</td>\n",
       "      <td>NaN</td>\n",
       "      <td>NaN</td>\n",
       "      <td>NaN</td>\n",
       "    </tr>\n",
       "    <tr>\n",
       "      <th>1</th>\n",
       "      <td>e</td>\n",
       "      <td>x</td>\n",
       "      <td>s</td>\n",
       "      <td>y</td>\n",
       "      <td>t</td>\n",
       "      <td>a</td>\n",
       "      <td>f</td>\n",
       "      <td>c</td>\n",
       "      <td>b</td>\n",
       "      <td>k</td>\n",
       "      <td>...</td>\n",
       "      <td>NaN</td>\n",
       "      <td>NaN</td>\n",
       "      <td>NaN</td>\n",
       "      <td>NaN</td>\n",
       "      <td>NaN</td>\n",
       "      <td>NaN</td>\n",
       "      <td>NaN</td>\n",
       "      <td>NaN</td>\n",
       "      <td>NaN</td>\n",
       "      <td>NaN</td>\n",
       "    </tr>\n",
       "    <tr>\n",
       "      <th>2</th>\n",
       "      <td>e</td>\n",
       "      <td>b</td>\n",
       "      <td>s</td>\n",
       "      <td>w</td>\n",
       "      <td>t</td>\n",
       "      <td>l</td>\n",
       "      <td>f</td>\n",
       "      <td>c</td>\n",
       "      <td>b</td>\n",
       "      <td>n</td>\n",
       "      <td>...</td>\n",
       "      <td>NaN</td>\n",
       "      <td>NaN</td>\n",
       "      <td>NaN</td>\n",
       "      <td>NaN</td>\n",
       "      <td>NaN</td>\n",
       "      <td>NaN</td>\n",
       "      <td>NaN</td>\n",
       "      <td>NaN</td>\n",
       "      <td>NaN</td>\n",
       "      <td>NaN</td>\n",
       "    </tr>\n",
       "    <tr>\n",
       "      <th>3</th>\n",
       "      <td>p</td>\n",
       "      <td>x</td>\n",
       "      <td>y</td>\n",
       "      <td>w</td>\n",
       "      <td>t</td>\n",
       "      <td>p</td>\n",
       "      <td>f</td>\n",
       "      <td>c</td>\n",
       "      <td>n</td>\n",
       "      <td>n</td>\n",
       "      <td>...</td>\n",
       "      <td>NaN</td>\n",
       "      <td>NaN</td>\n",
       "      <td>NaN</td>\n",
       "      <td>NaN</td>\n",
       "      <td>NaN</td>\n",
       "      <td>NaN</td>\n",
       "      <td>NaN</td>\n",
       "      <td>NaN</td>\n",
       "      <td>NaN</td>\n",
       "      <td>NaN</td>\n",
       "    </tr>\n",
       "    <tr>\n",
       "      <th>4</th>\n",
       "      <td>e</td>\n",
       "      <td>x</td>\n",
       "      <td>s</td>\n",
       "      <td>g</td>\n",
       "      <td>f</td>\n",
       "      <td>n</td>\n",
       "      <td>f</td>\n",
       "      <td>w</td>\n",
       "      <td>b</td>\n",
       "      <td>k</td>\n",
       "      <td>...</td>\n",
       "      <td>NaN</td>\n",
       "      <td>NaN</td>\n",
       "      <td>NaN</td>\n",
       "      <td>NaN</td>\n",
       "      <td>NaN</td>\n",
       "      <td>NaN</td>\n",
       "      <td>NaN</td>\n",
       "      <td>NaN</td>\n",
       "      <td>NaN</td>\n",
       "      <td>NaN</td>\n",
       "    </tr>\n",
       "  </tbody>\n",
       "</table>\n",
       "<p>5 rows × 51 columns</p>\n",
       "</div>"
      ],
      "text/plain": [
       "  class 1. Title 2. Sources  \\\n",
       "0     p        x          s   \n",
       "1     e        x          s   \n",
       "2     e        b          s   \n",
       "3     p        x          y   \n",
       "4     e        x          s   \n",
       "\n",
       "  American Mushrooms (1981). G. H. Lincoff (Pres.), New York (b) Donor  \\\n",
       "0                                                  n                 t   \n",
       "1                                                  y                 t   \n",
       "2                                                  w                 t   \n",
       "3                                                  w                 t   \n",
       "4                                                  g                 f   \n",
       "\n",
       "  (c) Date 3. Past Usage --- STAGGER Ann Arbor, Michigan  \\\n",
       "0        p             f           c                   n   \n",
       "1        a             f           c                   b   \n",
       "2        l             f           c                   b   \n",
       "3        p             f           c                   n   \n",
       "4        n             f           w                   b   \n",
       "\n",
       "  from training data using backpropagation networks, in  ... 19. ring-type  \\\n",
       "0                                                  k     ...           NaN   \n",
       "1                                                  k     ...           NaN   \n",
       "2                                                  n     ...           NaN   \n",
       "3                                                  n     ...           NaN   \n",
       "4                                                  k     ...           NaN   \n",
       "\n",
       "  20. spore-print-color 21. population 22. habitat  \\\n",
       "0                   NaN            NaN         NaN   \n",
       "1                   NaN            NaN         NaN   \n",
       "2                   NaN            NaN         NaN   \n",
       "3                   NaN            NaN         NaN   \n",
       "4                   NaN            NaN         NaN   \n",
       "\n",
       "  8. Missing Attribute Values attribute #11. <<DTSC-680 Students  \\\n",
       "0                         NaN                                NaN   \n",
       "1                         NaN                                NaN   \n",
       "2                         NaN                                NaN   \n",
       "3                         NaN                                NaN   \n",
       "4                         NaN                                NaN   \n",
       "\n",
       "  9. Class Distribution --    edible -- poisonous --     total  \n",
       "0                   NaN          NaN          NaN          NaN  \n",
       "1                   NaN          NaN          NaN          NaN  \n",
       "2                   NaN          NaN          NaN          NaN  \n",
       "3                   NaN          NaN          NaN          NaN  \n",
       "4                   NaN          NaN          NaN          NaN  \n",
       "\n",
       "[5 rows x 51 columns]"
      ]
     },
     "execution_count": 2,
     "metadata": {},
     "output_type": "execute_result"
    }
   ],
   "source": [
    "# Load the .names file, get column names\n",
    "with open('/Users/patrickforan/DTSC680/mushroom_classification/agaricus-lepiota.names', 'r') as f:\n",
    "    lines = f.readlines()\n",
    "\n",
    "# The first column is 'class', followed by feature names parsed from the .names file\n",
    "column_names = ['class'] + [line.strip().split(':')[0] for line in lines if ':' in line]\n",
    "\n",
    "# Load the CSV data with the extracted column names\n",
    "data = pd.read_csv('/Users/patrickforan/DTSC680/mushroom_classification/agaricus-lepiota.csv', header=None, names=column_names)\n",
    "\n",
    "# View columns\n",
    "data.head()\n"
   ]
  },
  {
   "cell_type": "code",
   "execution_count": 3,
   "id": "94a28645-353d-43ad-a36f-6bf95a4e6a19",
   "metadata": {},
   "outputs": [
    {
     "data": {
      "text/html": [
       "<div>\n",
       "<style scoped>\n",
       "    .dataframe tbody tr th:only-of-type {\n",
       "        vertical-align: middle;\n",
       "    }\n",
       "\n",
       "    .dataframe tbody tr th {\n",
       "        vertical-align: top;\n",
       "    }\n",
       "\n",
       "    .dataframe thead th {\n",
       "        text-align: right;\n",
       "    }\n",
       "</style>\n",
       "<table border=\"1\" class=\"dataframe\">\n",
       "  <thead>\n",
       "    <tr style=\"text-align: right;\">\n",
       "      <th></th>\n",
       "      <th>class</th>\n",
       "      <th>cap-shape</th>\n",
       "      <th>cap-surface</th>\n",
       "      <th>cap-color</th>\n",
       "      <th>bruises</th>\n",
       "      <th>odor</th>\n",
       "      <th>gill-attachment</th>\n",
       "      <th>gill-spacing</th>\n",
       "      <th>gill-size</th>\n",
       "      <th>gill-color</th>\n",
       "      <th>...</th>\n",
       "      <th>stalk-surface-below-ring</th>\n",
       "      <th>stalk-color-above-ring</th>\n",
       "      <th>stalk-color-below-ring</th>\n",
       "      <th>veil-type</th>\n",
       "      <th>veil-color</th>\n",
       "      <th>ring-number</th>\n",
       "      <th>ring-type</th>\n",
       "      <th>spore-print-color</th>\n",
       "      <th>population</th>\n",
       "      <th>habitat</th>\n",
       "    </tr>\n",
       "  </thead>\n",
       "  <tbody>\n",
       "    <tr>\n",
       "      <th>0</th>\n",
       "      <td>p</td>\n",
       "      <td>x</td>\n",
       "      <td>s</td>\n",
       "      <td>n</td>\n",
       "      <td>t</td>\n",
       "      <td>p</td>\n",
       "      <td>f</td>\n",
       "      <td>c</td>\n",
       "      <td>n</td>\n",
       "      <td>k</td>\n",
       "      <td>...</td>\n",
       "      <td>s</td>\n",
       "      <td>w</td>\n",
       "      <td>w</td>\n",
       "      <td>p</td>\n",
       "      <td>w</td>\n",
       "      <td>o</td>\n",
       "      <td>p</td>\n",
       "      <td>k</td>\n",
       "      <td>s</td>\n",
       "      <td>u</td>\n",
       "    </tr>\n",
       "    <tr>\n",
       "      <th>1</th>\n",
       "      <td>e</td>\n",
       "      <td>x</td>\n",
       "      <td>s</td>\n",
       "      <td>y</td>\n",
       "      <td>t</td>\n",
       "      <td>a</td>\n",
       "      <td>f</td>\n",
       "      <td>c</td>\n",
       "      <td>b</td>\n",
       "      <td>k</td>\n",
       "      <td>...</td>\n",
       "      <td>s</td>\n",
       "      <td>w</td>\n",
       "      <td>w</td>\n",
       "      <td>p</td>\n",
       "      <td>w</td>\n",
       "      <td>o</td>\n",
       "      <td>p</td>\n",
       "      <td>n</td>\n",
       "      <td>n</td>\n",
       "      <td>g</td>\n",
       "    </tr>\n",
       "    <tr>\n",
       "      <th>2</th>\n",
       "      <td>e</td>\n",
       "      <td>b</td>\n",
       "      <td>s</td>\n",
       "      <td>w</td>\n",
       "      <td>t</td>\n",
       "      <td>l</td>\n",
       "      <td>f</td>\n",
       "      <td>c</td>\n",
       "      <td>b</td>\n",
       "      <td>n</td>\n",
       "      <td>...</td>\n",
       "      <td>s</td>\n",
       "      <td>w</td>\n",
       "      <td>w</td>\n",
       "      <td>p</td>\n",
       "      <td>w</td>\n",
       "      <td>o</td>\n",
       "      <td>p</td>\n",
       "      <td>n</td>\n",
       "      <td>n</td>\n",
       "      <td>m</td>\n",
       "    </tr>\n",
       "    <tr>\n",
       "      <th>3</th>\n",
       "      <td>p</td>\n",
       "      <td>x</td>\n",
       "      <td>y</td>\n",
       "      <td>w</td>\n",
       "      <td>t</td>\n",
       "      <td>p</td>\n",
       "      <td>f</td>\n",
       "      <td>c</td>\n",
       "      <td>n</td>\n",
       "      <td>n</td>\n",
       "      <td>...</td>\n",
       "      <td>s</td>\n",
       "      <td>w</td>\n",
       "      <td>w</td>\n",
       "      <td>p</td>\n",
       "      <td>w</td>\n",
       "      <td>o</td>\n",
       "      <td>p</td>\n",
       "      <td>k</td>\n",
       "      <td>s</td>\n",
       "      <td>u</td>\n",
       "    </tr>\n",
       "    <tr>\n",
       "      <th>4</th>\n",
       "      <td>e</td>\n",
       "      <td>x</td>\n",
       "      <td>s</td>\n",
       "      <td>g</td>\n",
       "      <td>f</td>\n",
       "      <td>n</td>\n",
       "      <td>f</td>\n",
       "      <td>w</td>\n",
       "      <td>b</td>\n",
       "      <td>k</td>\n",
       "      <td>...</td>\n",
       "      <td>s</td>\n",
       "      <td>w</td>\n",
       "      <td>w</td>\n",
       "      <td>p</td>\n",
       "      <td>w</td>\n",
       "      <td>o</td>\n",
       "      <td>e</td>\n",
       "      <td>n</td>\n",
       "      <td>a</td>\n",
       "      <td>g</td>\n",
       "    </tr>\n",
       "  </tbody>\n",
       "</table>\n",
       "<p>5 rows × 23 columns</p>\n",
       "</div>"
      ],
      "text/plain": [
       "  class cap-shape cap-surface cap-color bruises odor gill-attachment  \\\n",
       "0     p         x           s         n       t    p               f   \n",
       "1     e         x           s         y       t    a               f   \n",
       "2     e         b           s         w       t    l               f   \n",
       "3     p         x           y         w       t    p               f   \n",
       "4     e         x           s         g       f    n               f   \n",
       "\n",
       "  gill-spacing gill-size gill-color  ... stalk-surface-below-ring  \\\n",
       "0            c         n          k  ...                        s   \n",
       "1            c         b          k  ...                        s   \n",
       "2            c         b          n  ...                        s   \n",
       "3            c         n          n  ...                        s   \n",
       "4            w         b          k  ...                        s   \n",
       "\n",
       "  stalk-color-above-ring stalk-color-below-ring veil-type veil-color  \\\n",
       "0                      w                      w         p          w   \n",
       "1                      w                      w         p          w   \n",
       "2                      w                      w         p          w   \n",
       "3                      w                      w         p          w   \n",
       "4                      w                      w         p          w   \n",
       "\n",
       "  ring-number ring-type spore-print-color population habitat  \n",
       "0           o         p                 k          s       u  \n",
       "1           o         p                 n          n       g  \n",
       "2           o         p                 n          n       m  \n",
       "3           o         p                 k          s       u  \n",
       "4           o         e                 n          a       g  \n",
       "\n",
       "[5 rows x 23 columns]"
      ]
     },
     "execution_count": 3,
     "metadata": {},
     "output_type": "execute_result"
    }
   ],
   "source": [
    "# Manually create and insert column names, .names file was poorly formatted and cumbersome.  \n",
    "column_names = [\n",
    "    'class', 'cap-shape', 'cap-surface', 'cap-color', 'bruises', 'odor',\n",
    "    'gill-attachment', 'gill-spacing', 'gill-size', 'gill-color',\n",
    "    'stalk-shape', 'stalk-root', 'stalk-surface-above-ring', 'stalk-surface-below-ring',\n",
    "    'stalk-color-above-ring', 'stalk-color-below-ring', 'veil-type', 'veil-color',\n",
    "    'ring-number', 'ring-type', 'spore-print-color', 'population', 'habitat'\n",
    "]\n",
    "\n",
    "data = pd.read_csv('/Users/patrickforan/DTSC680/mushroom_classification/agaricus-lepiota.csv', header=None, names=column_names)\n",
    "data.head()"
   ]
  },
  {
   "cell_type": "code",
   "execution_count": 4,
   "id": "d24b55a1-6d3d-4d58-8ac1-1690a1b74b82",
   "metadata": {},
   "outputs": [],
   "source": [
    "#Train Test Split\n",
    "from sklearn.model_selection import train_test_split\n",
    "\n",
    "#Seperate target and features. \n",
    "X = data.drop('class', axis=1)\n",
    "y = data['class']\n",
    "\n",
    "#Split the data \n",
    "X_train, X_test, y_train, y_test = train_test_split(\n",
    "    X, y, test_size=0.2, stratify=y, random_state=42\n",
    ")\n"
   ]
  },
  {
   "cell_type": "code",
   "execution_count": 5,
   "id": "6712ea1f-40a8-4823-824e-77d2f72285d3",
   "metadata": {},
   "outputs": [
    {
     "data": {
      "text/plain": [
       "array(['e', 'p'], dtype=object)"
      ]
     },
     "execution_count": 5,
     "metadata": {},
     "output_type": "execute_result"
    }
   ],
   "source": [
    "from sklearn.preprocessing import LabelEncoder\n",
    "\n",
    "label_encoder = LabelEncoder()\n",
    "\n",
    "# Fit on y_train , transfrom both\n",
    "\n",
    "y_train_encoded = label_encoder.fit_transform(y_train)\n",
    "y_test_encoded = label_encoder.transform(y_test)\n",
    "\n",
    "# Check mapping\n",
    "label_encoder.classes_\n"
   ]
  },
  {
   "cell_type": "code",
   "execution_count": 6,
   "id": "e94ef0c4-c5b1-450a-adc6-f28363d963a4",
   "metadata": {},
   "outputs": [],
   "source": [
    "#One-Hot Encode features\n",
    "X_train_encoded = pd.get_dummies(X_train)\n",
    "X_test_encoded = pd.get_dummies(X_test)\n",
    "\n",
    "\n",
    "# Align columns in case missing categories\n",
    "\n",
    "X_train_encoded, X_test_encoded = X_train_encoded.align(X_test_encoded, join='left', axis=1, fill_value=0)"
   ]
  },
  {
   "cell_type": "code",
   "execution_count": 7,
   "id": "03f32fc0-b176-47a6-988a-963d6e355d58",
   "metadata": {},
   "outputs": [
    {
     "name": "stdout",
     "output_type": "stream",
     "text": [
      "Number of original features: 22\n",
      "Number of features after encoding: 116\n"
     ]
    }
   ],
   "source": [
    "\n",
    "# Checkpoint\n",
    "print('Number of original features:', X.shape[1])\n",
    "print('Number of features after encoding:', X_train_encoded.shape[1])\n"
   ]
  },
  {
   "cell_type": "code",
   "execution_count": 8,
   "id": "96c41461-ac5b-468e-990c-c1e5d0e997a0",
   "metadata": {},
   "outputs": [],
   "source": [
    "#Sequential Neural Network\n",
    "import tensorflow as tf\n",
    "from tensorflow.keras.models import Sequential\n",
    "from tensorflow.keras.layers import Dense\n",
    "\n",
    "#Set up input dimensions\n",
    "input_dim = X_train_encoded.shape[1]\n",
    "\n"
   ]
  },
  {
   "cell_type": "code",
   "execution_count": 9,
   "id": "de82c562-d861-460b-b750-807c3cbdb5b8",
   "metadata": {
    "scrolled": true
   },
   "outputs": [
    {
     "name": "stdout",
     "output_type": "stream",
     "text": [
      "Metal device set to: Apple M3 Pro\n",
      "Epoch 1/10\n"
     ]
    },
    {
     "name": "stderr",
     "output_type": "stream",
     "text": [
      "2025-04-25 13:11:19.415905: I tensorflow/core/common_runtime/pluggable_device/pluggable_device_factory.cc:305] Could not identify NUMA node of platform GPU ID 0, defaulting to 0. Your kernel may not have been built with NUMA support.\n",
      "2025-04-25 13:11:19.416123: I tensorflow/core/common_runtime/pluggable_device/pluggable_device_factory.cc:271] Created TensorFlow device (/job:localhost/replica:0/task:0/device:GPU:0 with 0 MB memory) -> physical PluggableDevice (device: 0, name: METAL, pci bus id: <undefined>)\n",
      "2025-04-25 13:11:19.588933: W tensorflow/core/platform/profile_utils/cpu_utils.cc:128] Failed to get CPU frequency: 0 Hz\n"
     ]
    },
    {
     "name": "stdout",
     "output_type": "stream",
     "text": [
      "  1/163 [..............................] - ETA: 52s - loss: 0.7248 - accuracy: 0.5312"
     ]
    },
    {
     "name": "stderr",
     "output_type": "stream",
     "text": [
      "2025-04-25 13:11:19.744852: I tensorflow/core/grappler/optimizers/custom_graph_optimizer_registry.cc:113] Plugin optimizer for device_type GPU is enabled.\n"
     ]
    },
    {
     "name": "stdout",
     "output_type": "stream",
     "text": [
      "163/163 [==============================] - 1s 5ms/step - loss: 0.3218 - accuracy: 0.8832 - val_loss: 0.1247 - val_accuracy: 0.9608\n",
      "Epoch 2/10\n",
      "  1/163 [..............................] - ETA: 0s - loss: 0.1276 - accuracy: 0.9688"
     ]
    },
    {
     "name": "stderr",
     "output_type": "stream",
     "text": [
      "2025-04-25 13:11:20.640707: I tensorflow/core/grappler/optimizers/custom_graph_optimizer_registry.cc:113] Plugin optimizer for device_type GPU is enabled.\n"
     ]
    },
    {
     "name": "stdout",
     "output_type": "stream",
     "text": [
      "163/163 [==============================] - 1s 3ms/step - loss: 0.0740 - accuracy: 0.9844 - val_loss: 0.0476 - val_accuracy: 0.9915\n",
      "Epoch 3/10\n",
      "163/163 [==============================] - 1s 3ms/step - loss: 0.0322 - accuracy: 0.9963 - val_loss: 0.0254 - val_accuracy: 0.9977\n",
      "Epoch 4/10\n",
      "163/163 [==============================] - 1s 4ms/step - loss: 0.0181 - accuracy: 0.9983 - val_loss: 0.0157 - val_accuracy: 0.9992\n",
      "Epoch 5/10\n",
      "163/163 [==============================] - 1s 4ms/step - loss: 0.0116 - accuracy: 0.9988 - val_loss: 0.0109 - val_accuracy: 0.9992\n",
      "Epoch 6/10\n",
      "163/163 [==============================] - 1s 3ms/step - loss: 0.0078 - accuracy: 0.9996 - val_loss: 0.0079 - val_accuracy: 1.0000\n",
      "Epoch 7/10\n",
      "163/163 [==============================] - 1s 3ms/step - loss: 0.0057 - accuracy: 0.9998 - val_loss: 0.0061 - val_accuracy: 1.0000\n",
      "Epoch 8/10\n",
      "163/163 [==============================] - 1s 3ms/step - loss: 0.0042 - accuracy: 0.9998 - val_loss: 0.0045 - val_accuracy: 1.0000\n",
      "Epoch 9/10\n",
      "163/163 [==============================] - 1s 3ms/step - loss: 0.0032 - accuracy: 1.0000 - val_loss: 0.0035 - val_accuracy: 1.0000\n",
      "Epoch 10/10\n",
      "163/163 [==============================] - 1s 3ms/step - loss: 0.0025 - accuracy: 1.0000 - val_loss: 0.0028 - val_accuracy: 1.0000\n",
      "CPU times: user 4.54 s, sys: 2.85 s, total: 7.39 s\n",
      "Wall time: 6.5 s\n"
     ]
    }
   ],
   "source": [
    "%%time\n",
    "# %%time, first line in cell\n",
    "\n",
    "\n",
    "# Define Model\n",
    "model = Sequential([\n",
    "    Dense(16, activation='relu', input_dim=input_dim),\n",
    "    Dense(1, activation='sigmoid')\n",
    "])\n",
    "\n",
    "\n",
    "# Compile Model\n",
    "model.compile(optimizer='adam', loss='binary_crossentropy', metrics=['accuracy'])\n",
    "\n",
    "# Train Model\n",
    "history = model.fit(X_train_encoded, y_train_encoded, epochs=10, batch_size=32, validation_split=0.2)\n"
   ]
  },
  {
   "cell_type": "code",
   "execution_count": 10,
   "id": "2acf4d13-07c8-4731-8499-23ff47837c31",
   "metadata": {},
   "outputs": [
    {
     "name": "stdout",
     "output_type": "stream",
     "text": [
      "51/51 [==============================] - 0s 1ms/step\n"
     ]
    },
    {
     "name": "stderr",
     "output_type": "stream",
     "text": [
      "2025-04-25 13:11:26.131776: I tensorflow/core/grappler/optimizers/custom_graph_optimizer_registry.cc:113] Plugin optimizer for device_type GPU is enabled.\n"
     ]
    },
    {
     "data": {
      "image/png": "[encoded data removed]",
      "text/plain": [
       "<Figure size 640x480 with 2 Axes>"
      ]
     },
     "metadata": {},
     "output_type": "display_data"
    }
   ],
   "source": [
    "#Evaluate Model\n",
    "from sklearn.metrics import ConfusionMatrixDisplay\n",
    "import numpy as np\n",
    "import matplotlib.pyplot as plt\n",
    "\n",
    "# Manually convert to float32 data type for Tensorflow compatibility\n",
    "X_train_encoded = X_train_encoded.astype('float32')\n",
    "X_test_encoded = X_test_encoded.astype('float32')\n",
    "\n",
    "\n",
    "\n",
    "# Predict Probabilities\n",
    "y_pred_prob = model.predict(X_test_encoded)\n",
    "\n",
    "# Round to 0 or 1 for class predictions\n",
    "y_pred = np.round(y_pred_prob)\n",
    "\n",
    "# Plot Matrix\n",
    "ConfusionMatrixDisplay.from_predictions(y_test_encoded, y_pred)\n",
    "plt.title('Confusion Matrix: Original Neural Network')\n",
    "plt.show()\n"
   ]
  },
  {
   "cell_type": "code",
   "execution_count": 11,
   "id": "b1189c7d-2603-42c8-b330-b3e94e0deffb",
   "metadata": {},
   "outputs": [
    {
     "name": "stdout",
     "output_type": "stream",
     "text": [
      "Original feature count: 116\n",
      "PCA-reduced feature count: 60\n"
     ]
    }
   ],
   "source": [
    "# Principal Component Analysis\n",
    "from sklearn.preprocessing import StandardScaler\n",
    "from sklearn.decomposition import PCA\n",
    "\n",
    "# Standardize Features\n",
    "scaler = StandardScaler()\n",
    "X_train_scaled = scaler.fit_transform(X_train_encoded)\n",
    "X_test_scaled = scaler.transform(X_test_encoded)\n",
    "\n",
    "#Apply PCA\n",
    "pca = PCA(n_components=0.95)\n",
    "X_train_pca = pca.fit_transform(X_train_scaled)\n",
    "X_test_pca = pca.transform(X_test_scaled)\n",
    "\n",
    "# Check to see how many features we have left compared to orginal count\n",
    "print(\"Original feature count:\", X_train_encoded.shape[1])\n",
    "print(\"PCA-reduced feature count:\", X_train_pca.shape[1])\n"
   ]
  },
  {
   "cell_type": "code",
   "execution_count": 12,
   "id": "27c1f8b8-3bed-4f2f-8997-170d83b520f8",
   "metadata": {},
   "outputs": [
    {
     "name": "stdout",
     "output_type": "stream",
     "text": [
      "Epoch 1/10\n",
      " 14/163 [=>............................] - ETA: 0s - loss: 0.3656 - accuracy: 0.8817 "
     ]
    },
    {
     "name": "stderr",
     "output_type": "stream",
     "text": [
      "2025-04-25 13:11:26.668318: I tensorflow/core/grappler/optimizers/custom_graph_optimizer_registry.cc:113] Plugin optimizer for device_type GPU is enabled.\n"
     ]
    },
    {
     "name": "stdout",
     "output_type": "stream",
     "text": [
      "163/163 [==============================] - 1s 5ms/step - loss: 0.1814 - accuracy: 0.9663 - val_loss: 0.0667 - val_accuracy: 0.9969\n",
      "Epoch 2/10\n",
      "  1/163 [..............................] - ETA: 0s - loss: 0.0635 - accuracy: 1.0000"
     ]
    },
    {
     "name": "stderr",
     "output_type": "stream",
     "text": [
      "2025-04-25 13:11:27.362557: I tensorflow/core/grappler/optimizers/custom_graph_optimizer_registry.cc:113] Plugin optimizer for device_type GPU is enabled.\n"
     ]
    },
    {
     "name": "stdout",
     "output_type": "stream",
     "text": [
      "163/163 [==============================] - 1s 3ms/step - loss: 0.0394 - accuracy: 0.9988 - val_loss: 0.0238 - val_accuracy: 1.0000\n",
      "Epoch 3/10\n",
      "163/163 [==============================] - 1s 3ms/step - loss: 0.0161 - accuracy: 0.9996 - val_loss: 0.0119 - val_accuracy: 1.0000\n",
      "Epoch 4/10\n",
      "163/163 [==============================] - 1s 3ms/step - loss: 0.0088 - accuracy: 0.9996 - val_loss: 0.0072 - val_accuracy: 1.0000\n",
      "Epoch 5/10\n",
      "163/163 [==============================] - 1s 3ms/step - loss: 0.0056 - accuracy: 0.9998 - val_loss: 0.0048 - val_accuracy: 1.0000\n",
      "Epoch 6/10\n",
      "163/163 [==============================] - 1s 3ms/step - loss: 0.0040 - accuracy: 0.9998 - val_loss: 0.0035 - val_accuracy: 1.0000\n",
      "Epoch 7/10\n",
      "163/163 [==============================] - 1s 4ms/step - loss: 0.0031 - accuracy: 0.9998 - val_loss: 0.0027 - val_accuracy: 1.0000\n",
      "Epoch 8/10\n",
      "163/163 [==============================] - 1s 3ms/step - loss: 0.0025 - accuracy: 0.9998 - val_loss: 0.0022 - val_accuracy: 1.0000\n",
      "Epoch 9/10\n",
      "163/163 [==============================] - 1s 3ms/step - loss: 0.0021 - accuracy: 0.9998 - val_loss: 0.0018 - val_accuracy: 1.0000\n",
      "Epoch 10/10\n",
      "163/163 [==============================] - 1s 3ms/step - loss: 0.0017 - accuracy: 0.9998 - val_loss: 0.0015 - val_accuracy: 1.0000\n",
      "CPU times: user 4.72 s, sys: 4.85 s, total: 9.57 s\n",
      "Wall time: 6.17 s\n"
     ]
    }
   ],
   "source": [
    "%%time\n",
    "#Train Neural Network w/ PCA Data\n",
    "\n",
    "#Define model with new dimensions\n",
    "pca_model = Sequential([\n",
    "    Dense(16, activation='relu', input_dim=X_train_pca.shape[1]),\n",
    "    Dense(1, activation='sigmoid')\n",
    "])\n",
    "\n",
    "# Compile and Train\n",
    "pca_model.compile(optimizer='adam', loss='binary_crossentropy', metrics=['accuracy'])\n",
    "\n",
    "pca_hist = pca_model.fit(X_train_pca, y_train_encoded, epochs=10, batch_size=32, validation_split=0.2)\n"
   ]
  },
  {
   "cell_type": "code",
   "execution_count": 13,
   "id": "911d1033-168b-486a-9c34-315ae362602a",
   "metadata": {
    "scrolled": true
   },
   "outputs": [
    {
     "name": "stdout",
     "output_type": "stream",
     "text": [
      "51/51 [==============================] - 0s 1ms/step\n"
     ]
    },
    {
     "name": "stderr",
     "output_type": "stream",
     "text": [
      "2025-04-25 13:11:32.586297: I tensorflow/core/grappler/optimizers/custom_graph_optimizer_registry.cc:113] Plugin optimizer for device_type GPU is enabled.\n"
     ]
    },
    {
     "data": {
      "image/png": "[encoded data removed]",
      "text/plain": [
       "<Figure size 640x480 with 2 Axes>"
      ]
     },
     "metadata": {},
     "output_type": "display_data"
    }
   ],
   "source": [
    "#PCA Model Confusion Matrix\n",
    "\n",
    "# Predict probabilities\n",
    "y_pred_pca_prob = pca_model.predict(X_test_pca)\n",
    "\n",
    "# Round to 0 or 1\n",
    "y_pred_pca = np.round(y_pred_pca_prob)\n",
    "\n",
    "# Display confusion matrix\n",
    "ConfusionMatrixDisplay.from_predictions(y_test_encoded, y_pred_pca)\n",
    "plt.title(\"Confusion Matrix: PCA Neural Network\")\n",
    "plt.show()"
   ]
  },
  {
   "cell_type": "markdown",
   "id": "60b586ec-6a95-4da5-933a-3b701ba5a6f1",
   "metadata": {},
   "source": [
    "10.\n",
    "    a.\n",
    "    After One-Hot encoding the data, there were 116 features. Before encoding the data, there were 22 categorical features. One-Hot Encoding multiplied each categorical feature into multiple columns, resulting in a greater dimensional dataset. The expansion allowed ML models to work more effectively with categorical variables. \n",
    "\n",
    "    b.\n",
    "    There should be 1 output layer for the units parameter. We are assessing for binary classification; is the mushroom edible or poisonous. A single neuron output with sigmoid activation results in probability between 0 and 1 for binary classifications.\n",
    "\n",
    "   c.\n",
    "    Input to hidden layer:\n",
    "       (116+1)x16=1872\n",
    "    Hidden to output layer:\n",
    "       (16+1)x1=17\n",
    "    Total Connections:\n",
    "       1872+17 = 1889 Total Connections\n",
    "\n",
    "    d. After dimensionality reduction, there were 60 features in the training data. The encoded data had 116 features, almost twice as many. PCA reduced the features while retaining 95% of the variance and reducing training time.\n",
    "\n",
    "    e. The input_dim parameter denotes the amount of input features in the network. The number of features changes from 116 to 60, so the input dimension has to be updated accordingly, it needs to match the shape of the PCA-transformed training data.\n",
    "\n",
    "    f. The original neural network had a training time of 6.50 seconds. About half a second slower than the PCA neural network, 6.17 seconds. The PCA reduced the number of features so it was expected to be more efficient in it's computations and aligns with the expectation that reducing dimensionality improves training efficiency.\n",
    "   \n",
    "    "
   ]
  },
  {
   "cell_type": "code",
   "execution_count": 14,
   "id": "8747c77a-7ec8-46ed-b546-ba23f4417dfb",
   "metadata": {},
   "outputs": [
    {
     "name": "stdout",
     "output_type": "stream",
     "text": [
      "INFO:tensorflow:Assets written to: /Users/patrickforan/DTSC680/mushroom_classification/pca_model/assets\n"
     ]
    }
   ],
   "source": [
    "# Export PCA Model\n",
    "pca_model.save('/Users/patrickforan/DTSC680/mushroom_classification/pca_model')"
   ]
  },
  {
   "cell_type": "code",
   "execution_count": null,
   "id": "39bbce2b-ef49-44a9-93cf-5a8befc2afc9",
   "metadata": {},
   "outputs": [],
   "source": []
  }
 ],
 "metadata": {
  "kernelspec": {
   "display_name": "dtsc680",
   "language": "python",
   "name": "dtsc680"
  },
  "language_info": {
   "codemirror_mode": {
    "name": "ipython",
    "version": 3
   },
   "file_extension": ".py",
   "mimetype": "text/x-python",
   "name": "python",
   "nbconvert_exporter": "python",
   "pygments_lexer": "ipython3",
   "version": "3.9.21"
  }
 },
 "nbformat": 4,
 "nbformat_minor": 5
}
